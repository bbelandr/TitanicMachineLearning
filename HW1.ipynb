{
 "cells": [
  {
   "cell_type": "markdown",
   "id": "daa55803",
   "metadata": {},
   "source": [
    "# Homework 1 Submission\n",
    "* Benjamin Belandres\n",
    "* COSC325, Intro to Machine Learning\n",
    "\n",
    "## Task #1: Experimental vs Theoretical Probability\n",
    "Review Lecture 04 on Probability Theory. In particular, review the concepts of experimental probability, and continuous and discrete probability distributions, such as the Binomial and Geometric Distributions. You will use a deck of cards for this Task. \n",
    "* Theory:\n",
    "    * Compute the probability of drawing an ace from a standard 52-card deck in one draw. This is our success probability.\n",
    "    * Then, compute the probability that the first success occurs on the 4th draw using the geometric distribution formula."
   ]
  },
  {
   "cell_type": "code",
   "execution_count": 7,
   "id": "4875106d",
   "metadata": {},
   "outputs": [
    {
     "name": "stdout",
     "output_type": "stream",
     "text": [
      "The probability of drawing an ace from a deck is 7.6923076923076925%\n",
      "The probability of drawing an ace from a deck in 4 draws is 6.050208326039005%\n"
     ]
    }
   ],
   "source": [
    "# Probability calculation\n",
    "numCards = 52\n",
    "numAces = 4\n",
    "probability = numAces/numCards\n",
    "print(f\"The probability of drawing an ace from a deck is {probability*100}%\")\n",
    "\n",
    "# Geometric Probability\n",
    "# P(x=k) = (1-p)^(k-1) * p\n",
    "desiredTrialSuccess = 4\n",
    "geometricProb = (1-probability)**(desiredTrialSuccess-1) * probability\n",
    "print(f\"The probability of drawing an ace from a deck in 4 draws is {geometricProb * 100}%\")"
   ]
  },
  {
   "cell_type": "markdown",
   "id": "ab20a659",
   "metadata": {},
   "source": [
    "### Python Simulation:\n",
    "* Simulate 100,000 trials in Python where you repeatedly draw until you get an ace, and record the trial number of the first success.\n",
    "* Estimate the probability that the first success is at draw 4.\n"
   ]
  },
  {
   "cell_type": "code",
   "execution_count": 9,
   "id": "1429e09d",
   "metadata": {},
   "outputs": [
    {
     "name": "stdout",
     "output_type": "stream",
     "text": [
      "The estimated success for drawing an ace at trial 4 is 5.921%\n"
     ]
    },
    {
     "data": {
      "text/plain": [
       "Text(0.5, 1.0, 'Ace Drawing Experiment')"
      ]
     },
     "execution_count": 9,
     "metadata": {},
     "output_type": "execute_result"
    },
    {
     "data": {
      "image/png": "[encoded data removed]",
      "text/plain": [
       "<Figure size 640x480 with 1 Axes>"
      ]
     },
     "metadata": {},
     "output_type": "display_data"
    }
   ],
   "source": [
    "# Python simulation\n",
    "# How many times do you have to draw a card until you get an Ace?\n",
    "    # Repeat 100,000 times:\n",
    "        # while true:\n",
    "            # Generate a random value between 0 and 52\n",
    "            # cardDraws++\n",
    "            # If the value is 0, 1, 2, or 3 (which represent our aces in this case):\n",
    "                # trialNumbers.pushback(cardDraws)\n",
    "                # Break\n",
    "import random\n",
    "import matplotlib.pyplot as plt\n",
    "\n",
    "aceValues = {0, 1, 2, 3}    # If the random number generates any of these numbers, an ace was drawn\n",
    "trialNumbers = {}\n",
    "numTrials = 100000\n",
    "for trial in range(numTrials):\n",
    "    cardDraws = 0\n",
    "    while True:\n",
    "        cardNum = random.randrange(52)\n",
    "        cardDraws += 1\n",
    "        if cardNum in aceValues:\n",
    "            if cardDraws not in trialNumbers:\n",
    "                trialNumbers[cardDraws] = 0\n",
    "            trialNumbers[cardDraws] += 1\n",
    "            break\n",
    "estimatedSuccessAt4 = trialNumbers[4] / numTrials\n",
    "print(f\"The estimated success for drawing an ace at trial 4 is {estimatedSuccessAt4*100}%\")\n",
    "fig, ax = plt.subplots()\n",
    "ax.bar(trialNumbers.keys(), trialNumbers.values())\n",
    "ax.set_ylabel(\"Number of Trials\")\n",
    "ax.set_title(\"Ace Drawing Experiment\")\n",
    "\n",
    "        "
   ]
  },
  {
   "cell_type": "markdown",
   "id": "caf71374",
   "metadata": {},
   "source": [
    "### At-Home Experiment:\n",
    "* Perform 30+ physical trials where you repeatedly draw until you get an ace (replace card each time and shuffle deck between trials). Record the trial number.\n",
    "* Estimate the frequency of the first success occurring at draw 4. ."
   ]
  },
  {
   "cell_type": "code",
   "execution_count": 11,
   "id": "ed64f58b",
   "metadata": {},
   "outputs": [
    {
     "name": "stdout",
     "output_type": "stream",
     "text": [
      "The frequency of the first success occurring at draw 4 is 10.0%\n"
     ]
    }
   ],
   "source": [
    "# 1:  1\n",
    "# 2:  1\n",
    "# 3:  1\n",
    "# 4:  3\n",
    "# 5:  4\n",
    "# 6:  2\n",
    "# 7:  1\n",
    "# 8:  5\n",
    "# 9:  1\n",
    "# 10: 1\n",
    "# 11: 1\n",
    "# 13: 1\n",
    "# 19: 1\n",
    "# 23: 1\n",
    "# 29: 1\n",
    "# 31: 1\n",
    "# 32: 1\n",
    "# 33: 1\n",
    "# 45: 1\n",
    "# 72: 1\n",
    "\n",
    "numTrials = 30\n",
    "drawFourTrials = 3\n",
    "probability = drawFourTrials/numTrials\n",
    "print(f\"The frequency of the first success occurring at draw 4 is {probability*100}%\")"
   ]
  },
  {
   "cell_type": "markdown",
   "id": "7aabae82",
   "metadata": {},
   "source": [
    "### Write-up:\n",
    "* Report the theoretical probability, Python simulation result, and real-world experimental estimate and briefly discuss why the three may differ."
   ]
  },
  {
   "cell_type": "markdown",
   "id": "414b4a4a",
   "metadata": {},
   "source": [
    "The probability of drawing an ace from a deck in 4 draws is 6.050208326039005%\n",
    "The python estimated success for drawing an ace at trial 4 is 5.921%\n",
    "The real-world estimated success for drawing an ace at trial 4 is 10.0%\n",
    "\n",
    "It makes sense for these three values to differ because theoretical probability doesn't represent what a probability should always be during an experiment. \n",
    "Over time, should you have an experiment with many trials like the python experiment, the probability should converge to the theoretical probability according to the law of large numbers. This is not always the case in experiments with a low number of trials like the real-world experiment."
   ]
  }
 ],
 "metadata": {
  "kernelspec": {
   "display_name": "Python 3",
   "language": "python",
   "name": "python3"
  },
  "language_info": {
   "codemirror_mode": {
    "name": "ipython",
    "version": 3
   },
   "file_extension": ".py",
   "mimetype": "text/x-python",
   "name": "python",
   "nbconvert_exporter": "python",
   "pygments_lexer": "ipython3",
   "version": "3.10.12"
  }
 },
 "nbformat": 4,
 "nbformat_minor": 5
}
